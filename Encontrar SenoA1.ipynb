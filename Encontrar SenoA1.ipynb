{
 "cells": [
  {
   "cell_type": "code",
   "execution_count": 1,
   "id": "6abcf9e0",
   "metadata": {},
   "outputs": [],
   "source": [
    "#Importamos la libreria numpy\n",
    "\n",
    "import numpy as np"
   ]
  },
  {
   "cell_type": "code",
   "execution_count": 12,
   "id": "ae838a64",
   "metadata": {},
   "outputs": [],
   "source": [
    "#Creamos la funcion que nos permitira calcular el factorial a usar\n",
    "def factor(n):\n",
    "    fac = 1\n",
    "    if n < 0:\n",
    "        fac = 0\n",
    "    else:\n",
    "        if n == 0:\n",
    "             fac = 1\n",
    "        else:\n",
    "            for i in range (1,n+1):\n",
    "                fac = fac * i\n",
    "        return fac"
   ]
  },
  {
   "cell_type": "code",
   "execution_count": 13,
   "id": "3e10d542",
   "metadata": {},
   "outputs": [],
   "source": [
    "#Construimos una funcion potencia que nos permita elevar un número\n",
    "def potencia(x,y):\n",
    "    pot = x\n",
    "    if y < 0:\n",
    "        pot = 0\n",
    "    else:\n",
    "        if y == 0:\n",
    "            pot = 1\n",
    "        else:\n",
    "            if y == 1:\n",
    "                pot = x\n",
    "            else:\n",
    "                for i in range(1,y):\n",
    "                    pot = pot * x\n",
    "    return pot"
   ]
  },
  {
   "cell_type": "code",
   "execution_count": 14,
   "id": "cbe3992f",
   "metadata": {},
   "outputs": [],
   "source": [
    "#Aplicamos una función rads que nos permite cambiar el angulo a radianes\n",
    "def aRads(ang):\n",
    "    return (ang * (np.pi/100))"
   ]
  },
  {
   "cell_type": "code",
   "execution_count": 24,
   "id": "3477b8e2",
   "metadata": {},
   "outputs": [],
   "source": [
    "#Construimos la funcion seno que recibira el angulo en radianes y el numero de iteraciones que se realizaran en este caso 50\n",
    "def seno(ang,n):\n",
    "    suma = 0\n",
    "    for i in range(n+1):\n",
    "        suma = suma + ((potencia(-1, i)/factor(2*i+1)) * potencia(ang, (2*i+1)))\n",
    "    return suma"
   ]
  },
  {
   "cell_type": "code",
   "execution_count": 27,
   "id": "a61fa0ca",
   "metadata": {},
   "outputs": [
    {
     "name": "stdout",
     "output_type": "stream",
     "text": [
      "Ingrese el angulo en radianes60\n"
     ]
    }
   ],
   "source": [
    "#Solicitamos el ingreso del angulo por teclado\n",
    "ang = input(\"Ingrese el angulo en radianes\")\n",
    "#Definimos el tipo de dato\n",
    "ang = float(ang)"
   ]
  },
  {
   "cell_type": "code",
   "execution_count": 33,
   "id": "b8c3c4b1",
   "metadata": {},
   "outputs": [
    {
     "name": "stdout",
     "output_type": "stream",
     "text": [
      "N=1 El seno(60.0 º) es 0.7687296316630825\n",
      "N=2 El seno(60.0 º) es 0.967030387403945\n",
      "N=3 El seno(60.0 º) es 0.9502548158759504\n",
      "N=4 El seno(60.0 º) es 0.9510826571488679\n",
      "N=5 El seno(60.0 º) es 0.9510559174423823\n",
      "N=6 El seno(60.0 º) es 0.9510565264662088\n",
      "N=7 El seno(60.0 º) es 0.9510565161619386\n",
      "N=8 El seno(60.0 º) es 0.9510565162965403\n",
      "N=9 El seno(60.0 º) es 0.9510565162951419\n",
      "N=10 El seno(60.0 º) es 0.9510565162951538\n",
      "N=11 El seno(60.0 º) es 0.9510565162951536\n",
      "N=12 El seno(60.0 º) es 0.9510565162951536\n",
      "N=13 El seno(60.0 º) es 0.9510565162951536\n",
      "N=14 El seno(60.0 º) es 0.9510565162951536\n",
      "N=15 El seno(60.0 º) es 0.9510565162951536\n",
      "N=16 El seno(60.0 º) es 0.9510565162951536\n",
      "N=17 El seno(60.0 º) es 0.9510565162951536\n",
      "N=18 El seno(60.0 º) es 0.9510565162951536\n",
      "N=19 El seno(60.0 º) es 0.9510565162951536\n",
      "N=20 El seno(60.0 º) es 0.9510565162951536\n",
      "N=21 El seno(60.0 º) es 0.9510565162951536\n",
      "N=22 El seno(60.0 º) es 0.9510565162951536\n",
      "N=23 El seno(60.0 º) es 0.9510565162951536\n",
      "N=24 El seno(60.0 º) es 0.9510565162951536\n",
      "N=25 El seno(60.0 º) es 0.9510565162951536\n",
      "N=26 El seno(60.0 º) es 0.9510565162951536\n",
      "N=27 El seno(60.0 º) es 0.9510565162951536\n",
      "N=28 El seno(60.0 º) es 0.9510565162951536\n",
      "N=29 El seno(60.0 º) es 0.9510565162951536\n",
      "N=30 El seno(60.0 º) es 0.9510565162951536\n",
      "N=31 El seno(60.0 º) es 0.9510565162951536\n",
      "N=32 El seno(60.0 º) es 0.9510565162951536\n",
      "N=33 El seno(60.0 º) es 0.9510565162951536\n",
      "N=34 El seno(60.0 º) es 0.9510565162951536\n",
      "N=35 El seno(60.0 º) es 0.9510565162951536\n",
      "N=36 El seno(60.0 º) es 0.9510565162951536\n",
      "N=37 El seno(60.0 º) es 0.9510565162951536\n",
      "N=38 El seno(60.0 º) es 0.9510565162951536\n",
      "N=39 El seno(60.0 º) es 0.9510565162951536\n",
      "N=40 El seno(60.0 º) es 0.9510565162951536\n",
      "N=41 El seno(60.0 º) es 0.9510565162951536\n",
      "N=42 El seno(60.0 º) es 0.9510565162951536\n",
      "N=43 El seno(60.0 º) es 0.9510565162951536\n",
      "N=44 El seno(60.0 º) es 0.9510565162951536\n",
      "N=45 El seno(60.0 º) es 0.9510565162951536\n",
      "N=46 El seno(60.0 º) es 0.9510565162951536\n",
      "N=47 El seno(60.0 º) es 0.9510565162951536\n",
      "N=48 El seno(60.0 º) es 0.9510565162951536\n",
      "N=49 El seno(60.0 º) es 0.9510565162951536\n",
      "N=50 El seno(60.0 º) es 0.9510565162951536\n"
     ]
    }
   ],
   "source": [
    "#Antes de ejecutar este cuadro debe ingresar el angulo a calcular en el cuadro de arriba\n",
    "#Ejecutamos el programa\n",
    "for n in range(1, 50+1):\n",
    "        print(\"N=\" + str(n) + \" El seno(\"+ str(ang)+\" º) es \"+ str(seno(aRads(ang), n)))"
   ]
  },
  {
   "cell_type": "code",
   "execution_count": null,
   "id": "5e3a9c3d",
   "metadata": {},
   "outputs": [],
   "source": [
    "#GRACIAS POR VER EL PROGRAMA\n",
    "#Realizado por Ismael Salazar"
   ]
  }
 ],
 "metadata": {
  "kernelspec": {
   "display_name": "Python 3",
   "language": "python",
   "name": "python3"
  },
  "language_info": {
   "codemirror_mode": {
    "name": "ipython",
    "version": 3
   },
   "file_extension": ".py",
   "mimetype": "text/x-python",
   "name": "python",
   "nbconvert_exporter": "python",
   "pygments_lexer": "ipython3",
   "version": "3.8.8"
  }
 },
 "nbformat": 4,
 "nbformat_minor": 5
}
